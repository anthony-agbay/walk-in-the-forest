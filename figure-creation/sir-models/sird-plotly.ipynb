{
 "cells": [
  {
   "cell_type": "code",
   "execution_count": null,
   "metadata": {},
   "outputs": [],
   "source": [
    "import numpy as np\n",
    "from scipy.integrate import solve_ivp\n",
    "import plotly.graph_objects as go\n",
    "import pandas as pd\n",
    "import plotly.io as pio"
   ]
  },
  {
   "cell_type": "code",
   "execution_count": null,
   "metadata": {},
   "outputs": [],
   "source": [
    "def sird_model(t, y, beta, gamma, alpha, n):\n",
    "    \"\"\" Solves system using the solve_ivp definition and function\n",
    "    \n",
    "    Arguments\n",
    "        y: List of variable solutions\n",
    "        t: List of time steps to evaluate at\n",
    "        beta: Infection rate constant\n",
    "        gamma: Recovery rate constant\n",
    "        alpha: Death rate\n",
    "        n: Total number in the population\n",
    "    \n",
    "    Returns:\n",
    "        ds: Change in S \n",
    "        di: Change in I\n",
    "        dr: Change in R\n",
    "        \n",
    "    \"\"\"\n",
    "    s, i, r, d = y\n",
    "    ds = - beta * s * i / n\n",
    "    di = beta * s * i / n - gamma * i\n",
    "    dr = (1 - alpha) * gamma * i\n",
    "    dd = alpha * gamma * i\n",
    "\n",
    "    return ds, di, dr, dd"
   ]
  },
  {
   "cell_type": "code",
   "execution_count": null,
   "metadata": {},
   "outputs": [],
   "source": [
    "### Starting Values\n",
    "num_tsteps = 365*2\n",
    "t = np.linspace(0,365,num_tsteps)\n",
    "n = 330000000\n",
    "y0 = [n - 1, 1, 0, 0] # Start with a single infected individual\n",
    "\n",
    "gamma = 0.1 # 10 Day Infectious Period\n",
    "beta = 0.5 # Equivalent 5.0 R0\n",
    "alpha = 0.03 # 3% Mortality Rate\n",
    "\n",
    "infectious_time = round(1/gamma,2)\n",
    "latent_time = round(1/sigma,2)\n",
    "\n",
    "### Define steps for animation\n",
    "beta_start = 0.01\n",
    "beta_stop = 1\n",
    "beta_step = 0.01\n",
    "num_beta = int((beta_stop - beta_start)/beta_step + 1)\n",
    "beta_list = np.linspace(beta_start, beta_stop, num_beta)\n",
    "\n",
    "### DataFrame Initialization\n",
    "column_names = ['beta', 'S', 'I', 'R', 'D']\n",
    "data = pd.DataFrame(columns= column_names)"
   ]
  },
  {
   "cell_type": "code",
   "execution_count": null,
   "metadata": {},
   "outputs": [],
   "source": [
    "### Pre-generate all data\n",
    "for beta in beta_list:\n",
    "    sird_solver = solve_ivp(sird_model, [0, 365], y0, args=(beta, gamma, alpha, n), dense_output=True)\n",
    "    sird_solution = sird_solver.sol(t)\n",
    "    temp_df = pd.DataFrame(list(zip([beta] * num_tsteps, sird_solution[0,:], sird_solution[1,:], sird_solution[2,:], sird_solution[3,:])), columns=column_names)\n",
    "    data = pd.concat([data, temp_df])"
   ]
  },
  {
   "cell_type": "code",
   "execution_count": null,
   "metadata": {},
   "outputs": [],
   "source": [
    "def gen_trace_list(column, trace_name, trace_color):\n",
    "    trace = [go.Scatter(x=t, y=data[data['beta'] == beta][column],\n",
    "                        visible=False, name = trace_name,\n",
    "                        line_color = trace_color)\n",
    "             for beta in data['beta'].unique()]\n",
    "    return trace\n",
    "\n",
    "s_list = gen_trace_list('S', 'Susceptible', 'red')\n",
    "i_list = gen_trace_list('I', 'Infected', 'green')\n",
    "r_list = gen_trace_list('R', 'Recovered', 'blue')\n",
    "d_list = gen_trace_list('D', 'Dead', 'goldenrod')\n",
    "\n",
    "starting_beta = np.where(beta_list == 0.5)[0][0]\n",
    "s_list[starting_beta]['visible'] = True\n",
    "i_list[starting_beta]['visible'] = True\n",
    "r_list[starting_beta]['visible'] = True\n",
    "d_list[starting_beta]['visible'] = True"
   ]
  },
  {
   "cell_type": "code",
   "execution_count": null,
   "metadata": {},
   "outputs": [],
   "source": [
    "# Add all of the data to a figure\n",
    "fig = go.Figure(s_list + i_list + r_list + d_list)\n",
    "\n",
    "# Generating all of the steps\n",
    "steps = []\n",
    "for i in range(num_beta):\n",
    "    # Define the steps\n",
    "    step = dict(\n",
    "        method = 'update',\n",
    "        label =  str(round(beta_list[i], 2)),\n",
    "        args = [{'visible': [False] * len(fig.data)},\n",
    "                {\"title\" : \"SIRD Model – Infectious Period = 10 Days (𝛾 = 0.1) | Mortality Rate (𝛼) = 3%\"}]\n",
    "    )\n",
    "    \n",
    "    # Update the visible traces for each step\n",
    "    step['args'][0]['visible'][i] = True\n",
    "    step['args'][0]['visible'][i+num_beta] = True\n",
    "    step['args'][0]['visible'][i+2*num_beta] = True\n",
    "    step['args'][0]['visible'][i+3*num_beta] = True\n",
    "    \n",
    "    steps.append(step)\n",
    "\n",
    "# Generate slider\n",
    "sliders = [dict(steps = steps,\n",
    "                active = starting_beta,\n",
    "                currentvalue={'prefix' : \"β = \"},\n",
    "                pad = {\"t\" : 50})]\n",
    "\n",
    "# Final Figure generation\n",
    "fig.update_layout(sliders=sliders,\n",
    "                  title = \"SIRD Model – Infectious Period = 10 Days (𝛾 = 0.1) | Mortality Rate (𝛼) = 3%\",\n",
    "                  template='plotly_white')\n",
    "fig.update_yaxes(title='Number of Individuals')\n",
    "fig.update_xaxes(title='Days')\n",
    "\n",
    "# Figure preview\n",
    "fig.show()"
   ]
  },
  {
   "cell_type": "code",
   "execution_count": null,
   "metadata": {},
   "outputs": [],
   "source": [
    "# Write figure to HTML\n",
    "pio.write_html(fig, \"sird-graph.html\", auto_open=False)"
   ]
  }
 ],
 "metadata": {
  "kernelspec": {
   "display_name": "Python 3",
   "language": "python",
   "name": "python3"
  },
  "language_info": {
   "codemirror_mode": {
    "name": "ipython",
    "version": 3
   },
   "file_extension": ".py",
   "mimetype": "text/x-python",
   "name": "python",
   "nbconvert_exporter": "python",
   "pygments_lexer": "ipython3",
   "version": "3.7.3"
  }
 },
 "nbformat": 4,
 "nbformat_minor": 4
}
