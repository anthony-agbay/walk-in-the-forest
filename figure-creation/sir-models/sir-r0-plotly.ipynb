{
 "cells": [
  {
   "cell_type": "code",
   "execution_count": null,
   "metadata": {},
   "outputs": [],
   "source": [
    "import numpy as np\n",
    "from scipy.integrate import solve_ivp\n",
    "import plotly.graph_objects as go\n",
    "import pandas as pd\n",
    "import plotly.io as pio"
   ]
  },
  {
   "cell_type": "code",
   "execution_count": null,
   "metadata": {},
   "outputs": [],
   "source": [
    "def sir_model(t, y, r0, gamma, n):\n",
    "    \"\"\" Solves system using the solve_ivp definition and function\n",
    "    \n",
    "    Arguments\n",
    "        y: List of variable solutions\n",
    "        t: List of time steps to evaluate at\n",
    "        beta: Infection rate constant\n",
    "        gamma: Recovery rate constant\n",
    "        n: Total number in the population\n",
    "    \n",
    "    Returns:\n",
    "        ds: Change in S \n",
    "        di: Change in I\n",
    "        dr: Change in R\n",
    "        \n",
    "    \"\"\"\n",
    "    s, i, r = y\n",
    "    beta = r0 * gamma\n",
    "    ds = - beta * s * i / n\n",
    "    di = beta * s * i / n - gamma * i\n",
    "    dr = gamma * i\n",
    "\n",
    "    return ds, di, dr"
   ]
  },
  {
   "cell_type": "code",
   "execution_count": null,
   "metadata": {},
   "outputs": [],
   "source": [
    "# Required constants and T\n",
    "num_tsteps = 365\n",
    "t = np.linspace(0,365,num_tsteps)\n",
    "pop_size = 1000000\n",
    "y0 = [pop_size - 1, 1, 0] # Start with a single infected individual\n",
    "gamma = 0.1 # Use this for a 10 day recovery period (Modeling SARS-CoV-2)\n",
    "\n",
    "# Explicit definitions to help generate slider steps\n",
    "r0_start = 1\n",
    "r0_stop = 5\n",
    "r0_step = 0.1\n",
    "num_r0 = int((r0_stop - r0_start)/r0_step + 1)\n",
    "r0_list = np.linspace(r0_start, r0_stop, num_r0) #arange(0.5, 5, 0.1)\n",
    "\n",
    "pd_column_names = ['t', 'R0', 'S', 'I', 'R']\n",
    "\n",
    "## Data structure\n",
    "data = pd.DataFrame(columns=pd_column_names)"
   ]
  },
  {
   "cell_type": "code",
   "execution_count": null,
   "metadata": {},
   "outputs": [],
   "source": [
    "# Pre-generate all of the data\n",
    "for r0 in r0_list:\n",
    "    sir_solver = solve_ivp(sir_model, [0, 365], y0, args=(r0, gamma, pop_size), dense_output=True)\n",
    "    sir_solution = sir_solver.sol(t)\n",
    "    temp_df = pd.DataFrame(list(zip(t, [r0] * num_tsteps, sir_solution[0,:], sir_solution[1,:], sir_solution[2,:])), columns=pd_column_names)\n",
    "    data = pd.concat([data, temp_df])"
   ]
  },
  {
   "cell_type": "code",
   "execution_count": null,
   "metadata": {},
   "outputs": [],
   "source": [
    "# Generate the list of all of the traces\n",
    "s_trace_list = [go.Scatter(x=t, y = data[data['R0'] == r0]['S'], visible=False, name = 'Susceptible', line_color='red') for r0 in data['R0'].unique()]\n",
    "i_trace_list = [go.Scatter(x=t, y = data[data['R0'] == r0]['I'], visible=False, name = 'Infected', line_color='green') for r0 in data['R0'].unique()]\n",
    "r_trace_list = [go.Scatter(x=t, y = data[data['R0'] == r0]['R'], visible=False, name = 'Recovered', line_color='blue') for r0 in data['R0'].unique()]\n",
    "\n",
    "# Choose the starting visible trace\n",
    "starting_r0 = np.where(r0_list == 5)[0][0]\n",
    "s_trace_list[starting_r0]['visible'] = True\n",
    "i_trace_list[starting_r0]['visible'] = True\n",
    "r_trace_list[starting_r0]['visible'] = True"
   ]
  },
  {
   "cell_type": "code",
   "execution_count": null,
   "metadata": {},
   "outputs": [],
   "source": [
    "# Add all of the data to a figure\n",
    "fig = go.Figure(s_trace_list + i_trace_list + r_trace_list)\n",
    "\n",
    "# Generating all of the steps\n",
    "steps = []\n",
    "for i in range(num_r0):\n",
    "    # Define the steps\n",
    "    step = dict(\n",
    "        method = 'update',\n",
    "        label =  str(round(r0_list[i], 2)),\n",
    "        args = [{'visible': [False] * len(fig.data)},\n",
    "                {\"title\" : \"SIR Model: R<sub>0</sub> = \" + str(round(r0_list[i], 2))}]\n",
    "    )\n",
    "    \n",
    "    # Update the visible traces for each step\n",
    "    step['args'][0]['visible'][i] = True\n",
    "    step['args'][0]['visible'][i+num_r0] = True\n",
    "    step['args'][0]['visible'][i+2*num_r0] = True\n",
    "    \n",
    "    steps.append(step)\n",
    "\n",
    "# Generate slider\n",
    "sliders = [dict(steps = steps,\n",
    "                active = starting_r0,\n",
    "                currentvalue={'visible' : False},\n",
    "                pad = {\"t\" : 50})]\n",
    "\n",
    "# Final Figure generation\n",
    "fig.update_layout(sliders=sliders,\n",
    "                  title = \"SIR Model: R<sub>0</sub> = \" + str(round(r0_list[i], 2)),\n",
    "                  template='plotly_white',\n",
    "                  width=500,\n",
    "                  height=500)\n",
    "fig.update_yaxes(title='Number of Individuals')\n",
    "fig.update_xaxes(title='Days')\n",
    "\n",
    "# Figure preview\n",
    "fig.show()"
   ]
  },
  {
   "cell_type": "code",
   "execution_count": null,
   "metadata": {},
   "outputs": [],
   "source": [
    "# Write figure to HTML\n",
    "pio.write_html(fig, \"basic-sir-r0.html\", auto_open=False)"
   ]
  },
  {
   "cell_type": "code",
   "execution_count": null,
   "metadata": {},
   "outputs": [],
   "source": [
    "# Write figure to JSON\n",
    "pio.write_json(fig, \"basic-sir-r0.json\")"
   ]
  },
  {
   "cell_type": "code",
   "execution_count": null,
   "metadata": {},
   "outputs": [],
   "source": []
  }
 ],
 "metadata": {
  "kernelspec": {
   "display_name": "Python 3",
   "language": "python",
   "name": "python3"
  },
  "language_info": {
   "codemirror_mode": {
    "name": "ipython",
    "version": 3
   },
   "file_extension": ".py",
   "mimetype": "text/x-python",
   "name": "python",
   "nbconvert_exporter": "python",
   "pygments_lexer": "ipython3",
   "version": "3.7.7"
  }
 },
 "nbformat": 4,
 "nbformat_minor": 4
}
