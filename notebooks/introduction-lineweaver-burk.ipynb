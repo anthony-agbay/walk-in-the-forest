{
 "cells": [
  {
   "cell_type": "markdown",
   "metadata": {},
   "source": [
    "# Introduction to the Lineweaver-Burk Transformation\n",
    "\n",
    "This notebook is an interactive module exploring the characteristics of the **Lineweaver-Burk Transformation**. Recall the equations for the Michaelis-Menten (MM) model (left equation) and the Lineweaver-Burk (LB) Transformation (right equation):\n",
    "\n",
    "$$v = \\frac{V_{max}[S]}{K_m +[S]} \\Rightarrow \\frac{1}{v} = \\frac{1}{V_{max}} + \\frac{K_m}{V_{max}}\\frac{1}{[S]}$$"
   ]
  },
  {
   "cell_type": "markdown",
   "metadata": {},
   "source": [
    "## Table of Contents\n",
    "\n",
    "1. [Model Code](#model-code)\n",
    "2. [Lineweaver-Burk Plots](#ex1)\n",
    "3. [Michaelis-Menten vs. Lineweaver-Burk](#ex2)"
   ]
  },
  {
   "cell_type": "markdown",
   "metadata": {},
   "source": [
    "<a id='model-code'></a>"
   ]
  },
  {
   "cell_type": "markdown",
   "metadata": {},
   "source": [
    "## Model Code"
   ]
  },
  {
   "cell_type": "code",
   "execution_count": 1,
   "metadata": {},
   "outputs": [],
   "source": [
    "import numpy as np\n",
    "import plotly.express as px\n",
    "import plotly.graph_objects as go\n",
    "import plotly.tools as ptools\n",
    "import pandas as pd\n",
    "from plotly.subplots import make_subplots\n",
    "from ipywidgets import interact, interactive\n",
    "import ipywidgets as widgets"
   ]
  },
  {
   "cell_type": "code",
   "execution_count": 2,
   "metadata": {},
   "outputs": [],
   "source": [
    "### MM Code (From Previous Post for Comparison) ###\n",
    "\n",
    "def mm_model(substrate_conc, K_m, V_max):\n",
    "    \"\"\" Function to evaluate the MM model\n",
    "    \n",
    "    Arguments:\n",
    "        substrate_conc: substrate concentratration\n",
    "        K_m: Michaelis-Menten Constant\n",
    "        V_max: Maximal Reaction Velocity\n",
    "    \n",
    "    Returns:\n",
    "        v: Steady State Reaction Velocity\n",
    "    \"\"\"\n",
    "    \n",
    "    v = (V_max * substrate_conc) / (K_m + substrate_conc)\n",
    "    return(v)\n",
    "\n",
    "def lb_transform(substrate_conc, K_m, V_max):\n",
    "    \"\"\" Function to evaluate the LB model\n",
    "    \n",
    "    Arguments:\n",
    "        substrate_conc: substrate concentratration\n",
    "        K_m: Michaelis-Menten Constant\n",
    "        V_max: Maximal Reaction Velocity\n",
    "    \n",
    "    Returns:\n",
    "        recip_vel: Reciprocal Steady State Reaction Velocity\n",
    "    \n",
    "    \"\"\"\n",
    "    recip_vel = 1/V_max + K_m/V_max * 1/substrate_conc\n",
    "    return(recip_vel)\n",
    "\n",
    "### Reusable Variables ###\n",
    "sub_neg = np.arange(-200,0)\n",
    "sub_pos = np.arange(0.1,200)\n",
    "substrate = np.concatenate((sub_neg, sub_pos)) # Substrate Concentration Vector"
   ]
  },
  {
   "cell_type": "markdown",
   "metadata": {},
   "source": [
    "<a id='ex1'></a>"
   ]
  },
  {
   "cell_type": "markdown",
   "metadata": {},
   "source": [
    "## Lineweaver-Burk Plots"
   ]
  },
  {
   "cell_type": "code",
   "execution_count": 3,
   "metadata": {
    "scrolled": false
   },
   "outputs": [],
   "source": [
    "### Initial Figure Creation ###\n",
    "lb_only = go.FigureWidget()\n",
    "lb_only.add_scatter(x=1/substrate, y=lb_transform(substrate, 50, 10), mode='lines', line_color='red')\n",
    "lb_only.update_layout(title='Lineweaver-Burk Plots',\n",
    "                      xaxis_title='1/[S]',\n",
    "                      yaxis_title='1/v',\n",
    "                      template='plotly_white')\n",
    "lb_only.update_xaxes(range=[-1,1])\n",
    "lb_only.update_yaxes(range=[-1,1])\n",
    "lb_only.update_xaxes(zeroline=True, zerolinewidth=4)\n",
    "lb_only.update_yaxes(zeroline=True, zerolinewidth=4)\n",
    "\n",
    "### Interactive Updates\n",
    "def lb_only_update(km, vmax):\n",
    "    new_recip_vel = lb_transform(substrate, km, vmax)\n",
    "    lb_only.data[0].y = new_recip_vel\n",
    "\n",
    "\n",
    "### Generating Widgets ###\n",
    "km = widgets.IntSlider(value=50, min=10, max=200, description=\"$K_m$\")\n",
    "vmax = widgets.IntSlider(value=10, min=1, max=50, description=\"$V_{max}$\")\n",
    "slider_ui = widgets.HBox([km, vmax])\n",
    "out = widgets.interactive_output(lb_only_update, {'km': km, 'vmax' : vmax})"
   ]
  },
  {
   "cell_type": "code",
   "execution_count": 4,
   "metadata": {
    "scrolled": false
   },
   "outputs": [
    {
     "data": {
      "application/vnd.jupyter.widget-view+json": {
       "model_id": "dde2d3afa47245d698e4b37406db666a",
       "version_major": 2,
       "version_minor": 0
      },
      "text/plain": [
       "FigureWidget({\n",
       "    'data': [{'line': {'color': 'red'},\n",
       "              'mode': 'lines',\n",
       "              'type': 's…"
      ]
     },
     "metadata": {},
     "output_type": "display_data"
    },
    {
     "data": {
      "application/vnd.jupyter.widget-view+json": {
       "model_id": "6381e3a3277245899814fa62ddfd017d",
       "version_major": 2,
       "version_minor": 0
      },
      "text/plain": [
       "HBox(children=(IntSlider(value=50, description='$K_m$', max=200, min=10), IntSlider(value=10, description='$V_…"
      ]
     },
     "metadata": {},
     "output_type": "display_data"
    },
    {
     "data": {
      "application/vnd.jupyter.widget-view+json": {
       "model_id": "f15ec7bf9f7947deafc3d5958ef66412",
       "version_major": 2,
       "version_minor": 0
      },
      "text/plain": [
       "Output()"
      ]
     },
     "metadata": {},
     "output_type": "display_data"
    }
   ],
   "source": [
    "display(lb_only)\n",
    "display(slider_ui, out)"
   ]
  },
  {
   "cell_type": "markdown",
   "metadata": {},
   "source": [
    "### Changing the $K_m$\n",
    "Changing the $K_m$ only affects the slope of the line. It does not affect the y-intercept.\n",
    "\n",
    "### Changing the $V_{max}$\n",
    "Chaing the $V_{max}$ affects *both* the slope of the line and the y-intercept. However, it *does not* affect the x-intercept."
   ]
  },
  {
   "cell_type": "markdown",
   "metadata": {},
   "source": [
    "<a id='ex2'></a>"
   ]
  },
  {
   "cell_type": "markdown",
   "metadata": {},
   "source": [
    "## Michaelis-Menten vs. Lineweaver-Burk"
   ]
  },
  {
   "cell_type": "code",
   "execution_count": 5,
   "metadata": {},
   "outputs": [],
   "source": [
    "### Initial Figure Creation ###\n",
    "mm_vs_lb = go.FigureWidget(\n",
    "    make_subplots(rows=1, cols=2,\n",
    "                  subplot_titles=(\"Michaelis-Menten Model\",\n",
    "                                  \"Lineweaver-Burk Transformation\")))\n",
    "\n",
    "mm_vs_lb.add_scatter(x=sub_pos, y=mm_model(sub_pos, 50, 10),\n",
    "                     mode='lines', line_color='red', row=1, col=1,\n",
    "                     showlegend=False)\n",
    "mm_vs_lb.add_scatter(x=1/substrate, y=lb_transform(substrate, 50, 10),\n",
    "                     mode='lines', line_color='blue', row=1, col=2,\n",
    "                     showlegend=False)\n",
    "\n",
    "## Update MM Plot Axes\n",
    "mm_vs_lb.update_xaxes(range=[0,200], row=1, col=1)\n",
    "mm_vs_lb.update_yaxes(range=[0,50], row=1, col=1)\n",
    "\n",
    "## Update LB Plot Axes\n",
    "mm_vs_lb.update_xaxes(range=[-1,1], row=1, col=2)\n",
    "mm_vs_lb.update_yaxes(range=[-1,1], row=1, col=2)\n",
    "mm_vs_lb.update_xaxes(zeroline=True, zerolinewidth=4)\n",
    "mm_vs_lb.update_yaxes(zeroline=True, zerolinewidth=4)\n",
    "\n",
    "## Update Overall Figure\n",
    "mm_vs_lb.update_layout(template='plotly_white')\n",
    "\n",
    "\n",
    "### Interactive Updates\n",
    "def mm_vs_lb_update(km, vmax):\n",
    "    new_vel = mm_model(sub_pos, km, vmax)\n",
    "    mm_vs_lb.data[0].y = new_vel\n",
    "    \n",
    "    new_recip_vel = lb_transform(substrate, km, vmax)\n",
    "    mm_vs_lb.data[1].y = new_recip_vel\n",
    "\n",
    "### Generating Widgets ###\n",
    "km = widgets.IntSlider(value=50, min=10, max=200, description=\"$K_m$\")\n",
    "vmax = widgets.IntSlider(value=10, min=1, max=50, description=\"$V_{max}$\")\n",
    "slider_ui = widgets.HBox([km, vmax])\n",
    "out2 = widgets.interactive_output(mm_vs_lb_update, {'km': km, 'vmax' : vmax})"
   ]
  },
  {
   "cell_type": "code",
   "execution_count": 6,
   "metadata": {},
   "outputs": [
    {
     "data": {
      "application/vnd.jupyter.widget-view+json": {
       "model_id": "ef6aed5ba9e743e8b9c15814e60b5526",
       "version_major": 2,
       "version_minor": 0
      },
      "text/plain": [
       "FigureWidget({\n",
       "    'data': [{'line': {'color': 'red'},\n",
       "              'mode': 'lines',\n",
       "              'showlegen…"
      ]
     },
     "metadata": {},
     "output_type": "display_data"
    },
    {
     "data": {
      "application/vnd.jupyter.widget-view+json": {
       "model_id": "17e0c03fdfa04c93832c64f4206618fe",
       "version_major": 2,
       "version_minor": 0
      },
      "text/plain": [
       "HBox(children=(IntSlider(value=50, description='$K_m$', max=200, min=10), IntSlider(value=10, description='$V_…"
      ]
     },
     "metadata": {},
     "output_type": "display_data"
    },
    {
     "data": {
      "application/vnd.jupyter.widget-view+json": {
       "model_id": "23d60bf4209f4835b26384c79ca5c781",
       "version_major": 2,
       "version_minor": 0
      },
      "text/plain": [
       "Output()"
      ]
     },
     "metadata": {},
     "output_type": "display_data"
    }
   ],
   "source": [
    "display(mm_vs_lb)\n",
    "display(slider_ui, out2)"
   ]
  }
 ],
 "metadata": {
  "kernelspec": {
   "display_name": "Python 3",
   "language": "python",
   "name": "python3"
  },
  "language_info": {
   "codemirror_mode": {
    "name": "ipython",
    "version": 3
   },
   "file_extension": ".py",
   "mimetype": "text/x-python",
   "name": "python",
   "nbconvert_exporter": "python",
   "pygments_lexer": "ipython3",
   "version": "3.7.3"
  }
 },
 "nbformat": 4,
 "nbformat_minor": 4
}
