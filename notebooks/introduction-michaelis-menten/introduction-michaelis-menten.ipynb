{
 "cells": [
  {
   "cell_type": "markdown",
   "metadata": {},
   "source": [
    "# Introduction to Michaelis-Menten Kinetics\n",
    "\n",
    "This notebook is an interactive module exploring the basic Michaelis-Menten module. Recall that the Michaelis-Menten model describes an enzymatic reaction as:\n",
    "\n",
    "$$\\require{mhchem} \\ce{E + S <=>[k_f][k_r] ES ->[k_{cat}] E + P}$$\n",
    "\n",
    "and the final governing equation for the steady-state velocity of the reaction is:\n",
    "\n",
    "$$v = \\frac{V_{max} [S]}{K_m + [S]}$$\n",
    "\n",
    "Where:\n",
    "\n",
    "- $V_{max} = k_{cat}[S]_{tot}$: Maximal velocity if all enzymes are saturated\n",
    "- $[S]$: Free substrate concentration\n",
    "- $K_m$: Michaelis-Menten Constant\n",
    "\n",
    "For a full derivation of this equation see the [Introduction to Michaelis-Menten Kinetics](walkintheforest.com/posts/introduction-michaelis-menten-kinetics) post.\n",
    "\n",
    "Below, we will create a computational model of this equation so that you can explore the effect of different $K_m$ and $V_{max}$ values."
   ]
  },
  {
   "cell_type": "markdown",
   "metadata": {},
   "source": [
    "## How to Use This Notebook\n",
    "\n",
    "1. Select the \"Kernel\"menu button\n",
    "2. Select \"Restart and Run All\"\n",
    "3. Use the sliders to control the values $K_m$ and $V_{max}$\n",
    "4. Observe how altering these values change the Michaelis-Menten Plot"
   ]
  },
  {
   "cell_type": "markdown",
   "metadata": {},
   "source": [
    "## Model Code"
   ]
  },
  {
   "cell_type": "code",
   "execution_count": null,
   "metadata": {},
   "outputs": [],
   "source": [
    "# Imports #\n",
    "import numpy as np\n",
    "import plotly.graph_objects as go\n",
    "import pandas as pd\n",
    "from ipywidgets import interact, interactive\n",
    "import ipywidgets as widgets"
   ]
  },
  {
   "cell_type": "code",
   "execution_count": null,
   "metadata": {},
   "outputs": [],
   "source": [
    "### Main Model ###\n",
    "def mm_model(substrate_conc, K_m, V_max):\n",
    "    \"\"\" Function to evaluate the MM model\n",
    "    \n",
    "    Arguments:\n",
    "        substrate_conc: substrate concentratration\n",
    "        K_m: Michaelis-Menten Constant\n",
    "        V_max: Maximal Reaction Velocity\n",
    "    \n",
    "    Returns:\n",
    "        v: Steady State Reaction Velocity\n",
    "    \"\"\"\n",
    "    \n",
    "    v = (V_max * substrate_conc) / (K_m + substrate_conc)\n",
    "    return(v)\n",
    "\n",
    "### Resuable Variables ###\n",
    "substrate = np.arange(0,400) # Substrate Concentration Vector\n",
    "\n",
    "### Initial Figure Creation ###\n",
    "exp_figure = go.FigureWidget()\n",
    "exp_figure.add_scatter(x=substrate, y=mm_model(substrate, 50, 2000), mode='lines')\n",
    "exp_figure.update_layout(title='Michaelis-Menten Curve',\n",
    "                         xaxis_title = 'Substrate Concentration',\n",
    "                         yaxis_title = 'Reaction Velocity',\n",
    "                         template='plotly_dark')\n",
    "exp_figure.update_xaxes(rangemode='nonnegative')\n",
    "exp_figure.update_yaxes(range=[0,2000])\n",
    "\n",
    "\n",
    "### Interactive Updates ###\n",
    "def update_exp(km, vmax):\n",
    "    \"\"\"Function to update the widget data for new constants\n",
    "    \n",
    "    Arguments:\n",
    "        km: Michaelis-Menten Constant\n",
    "        V_max: Maximal reaction velocity\n",
    "    \"\"\"\n",
    "    new_velocity = mm_model(substrate,km, vmax)\n",
    "    exp_figure.data[0].y = new_velocity\n",
    "\n",
    "    \n",
    "### Generating Widgets ###\n",
    "km = widgets.IntSlider(value=50, min=10, max=200, description=\"$K_m$\")\n",
    "vmax = widgets.IntSlider(value=1000, min=500, max=2000, description=\"$V_{max}$\")\n",
    "slider_ui = widgets.HBox([km, vmax])\n",
    "out = widgets.interactive_output(update_exp, {'km': km, 'vmax' : vmax})"
   ]
  },
  {
   "cell_type": "markdown",
   "metadata": {},
   "source": [
    "## Interactive Graph\n",
    "Below is an interactive graph with sliders controlling the $K_m$ and the $V_{max}$. The graph will automatically update as you move the sliders around. Try to observe any patterns when changing these values. If the graph does not appear below, rerun the cell and it should output to the screen."
   ]
  },
  {
   "cell_type": "code",
   "execution_count": null,
   "metadata": {},
   "outputs": [],
   "source": [
    "display(exp_figure)\n",
    "display(slider_ui)"
   ]
  }
 ],
 "metadata": {
  "kernelspec": {
   "display_name": "Python 3",
   "language": "python",
   "name": "python3"
  },
  "language_info": {
   "codemirror_mode": {
    "name": "ipython",
    "version": 3
   },
   "file_extension": ".py",
   "mimetype": "text/x-python",
   "name": "python",
   "nbconvert_exporter": "python",
   "pygments_lexer": "ipython3",
   "version": "3.7.7"
  }
 },
 "nbformat": 4,
 "nbformat_minor": 4
}
