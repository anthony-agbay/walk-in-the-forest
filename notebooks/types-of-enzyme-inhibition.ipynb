{
 "cells": [
  {
   "cell_type": "markdown",
   "metadata": {},
   "source": [
    "# Types of Enzyme Inhibition\n",
    "\n",
    "## Table of Contents\n",
    "\n",
    "1. [How to Use this Notebook](#how-to-use)\n",
    "2. [Model Code](#model-code)\n",
    "3. [Competitive Inhibition](#competitive)\n",
    "4. [Uncompetitive Inhibition](#uncompetitive)\n",
    "5. [Noncompetitive Inhibition](#noncompetitive)\n",
    "6. [Key Observations](#key-observations)"
   ]
  },
  {
   "cell_type": "markdown",
   "metadata": {},
   "source": [
    "<a id='how-to-use'></a>"
   ]
  },
  {
   "cell_type": "markdown",
   "metadata": {},
   "source": [
    "## How to Use This Notebook\n",
    "\n",
    "This notebook (a companion to the Walk in th Forest post, \"[Types of Enzyme Inhibition](https://walkintheforest.com/post/types-of-enzyme-inhibition)\"  provides an interactive graphing environment to explore the three types of inhibition and how $K_I$ and $[S]$ affect the Michaelis-Menten and Lineweaver Burk plots. When working with the interactive graphs, the most important things to observe are the general patterns of change rather than the specific values:\n",
    "\n",
    "- How does changing $K_I$ affect the importance of $[I]$?\n",
    "- How do each of the Lineweaver-Burk Plots change with $[I]$?\n",
    "\n",
    "\n",
    "1. Select the \"Kernel\" menu button\n",
    "2. Select \"Restart and Run All\"\n",
    "3. Use the sliders to control $K_I$ and $[I]$ (Change the slider slowly to allow the graphs to update properly)\n",
    "4. Observe how altering these values affects the Michaelis-Menten and Lineweaver-Burk plots\n",
    "5. Compare your observations to those at the the bottom of the notebook.\n",
    "\n",
    "### Known Bugs\n",
    "- Sometimes the Lineweaver Burk plot traces curve back to the origin. Rerun the cell to reset the plots"
   ]
  },
  {
   "cell_type": "code",
   "execution_count": 1,
   "metadata": {},
   "outputs": [],
   "source": [
    "# Imports #\n",
    "import numpy as np\n",
    "import plotly.express as px\n",
    "import plotly.graph_objects as go\n",
    "import plotly.tools as ptools\n",
    "import pandas as pd\n",
    "from plotly.subplots import make_subplots\n",
    "from ipywidgets import interact, interactive, fixed\n",
    "import ipywidgets as widgets"
   ]
  },
  {
   "cell_type": "markdown",
   "metadata": {},
   "source": [
    "<a id='model-code'></a>"
   ]
  },
  {
   "cell_type": "markdown",
   "metadata": {},
   "source": [
    "## Model Code\n",
    "Below are the functions and primary code to generate the graphs and interactive elements of the notebook. **You do not need to edit this code**. However, if you are interested in how the code works, comments have been provided to help step through each function."
   ]
  },
  {
   "cell_type": "code",
   "execution_count": 2,
   "metadata": {},
   "outputs": [],
   "source": [
    "### Plotting function\n",
    "def plot_inhibition(title, mm_func, lb_func):\n",
    "    \"\"\" Generates the initial plot (widget) for graphing\n",
    "    \n",
    "    Arguments:\n",
    "        title: String of the inhibition type\n",
    "        mm_func: Function to evaluate the Michaelis-Menten equation\n",
    "        lb_func: Function to evaluate the Lineweaver-Burk equation\n",
    "    \n",
    "    Returns:\n",
    "        mm_vs_lb: Plotly widget/plot of MM and LB side-by-side\n",
    "    \"\"\"\n",
    "    \n",
    "    # Generate the intial figure and starting traces\n",
    "    mm_vs_lb = go.FigureWidget(\n",
    "        make_subplots(rows=1, cols=2,\n",
    "                      subplot_titles=(\"Michaelis-Menten Model\",\n",
    "                                      \"Lineweaver-Burk Transformation\")))\n",
    "    mm_vs_lb.add_scatter(x=sub_pos, y=mm_func(ki, inhib_conc),\n",
    "                     mode='lines', line_color='red', row=1, col=1,\n",
    "                     showlegend=False)\n",
    "    mm_vs_lb.add_scatter(x=1/substrate, y=lb_func(ki, inhib_conc),\n",
    "                         mode='lines', line_color='blue', row=1, col=2,\n",
    "                         showlegend=False)\n",
    "    \n",
    "    ## Update MM Plot Axes\n",
    "    mm_vs_lb.update_xaxes(range=[0,conc_high], row=1, col=1)\n",
    "    mm_vs_lb.update_yaxes(range=[0,20], row=1, col=1)\n",
    "\n",
    "    ## Update LB Plot Axes\n",
    "    mm_vs_lb.update_xaxes(range=[-1,1], row=1, col=2)\n",
    "    mm_vs_lb.update_yaxes(range=[-1,1], row=1, col=2)\n",
    "    mm_vs_lb.update_xaxes(zeroline=True, zerolinewidth=4)\n",
    "    mm_vs_lb.update_yaxes(zeroline=True, zerolinewidth=4)\n",
    "\n",
    "    ## Update Overall Figure\n",
    "    mm_vs_lb.update_layout(template='plotly_white',\n",
    "                           title=title + \" Inhibition\")\n",
    "    \n",
    "    return(mm_vs_lb)\n",
    "\n",
    "def mm_vs_lb_update(ki, inhib, mm_func, lb_func, graph):\n",
    "    \"\"\" Updates the plots given the slider inputs\n",
    "    \n",
    "    Arguments:\n",
    "        ki: Slider input to control K_I\n",
    "        inhib: Slider input to control [I]\n",
    "        mm_func: Function to evaluate the Michaelis-Menten equation\n",
    "        lb_func: Function to evaluate the Lineweaver-Burk equation\n",
    "        graph: Plotly widget/plot that will be updated\n",
    "    \"\"\"\n",
    "        \n",
    "    new_vel = mm_func(ki, inhib)\n",
    "    graph.data[0].y = new_vel\n",
    "\n",
    "    new_recip_vel = lb_func(ki, inhib)\n",
    "    graph.data[1].y = new_recip_vel\n",
    "\n",
    "def make_widgets():\n",
    "    \"\"\" Creates the ipywidgets to control K_I and [I]\n",
    "    \n",
    "    Returns:\n",
    "        slider_ui: Slider UI arranged in a horizontal box\n",
    "        ki_widget: Slider widget controlling K_I\n",
    "        inhib_widget: Slider widget controlling [I] \n",
    "    \"\"\"\n",
    "    \n",
    "    ki_widget = widgets.IntSlider(value=50, min=1, max=100, description=\"$K_{I}$\")\n",
    "    inhib_widget = widgets.IntSlider(value=50, min=1, max=200, description=\"$[I]$\")\n",
    "    slider_ui = widgets.HBox([ki_widget, inhib_widget])\n",
    "    \n",
    "    return(slider_ui, ki_widget, inhib_widget)\n",
    "\n",
    "def plot_and_display(title, mm_func, lb_func):\n",
    "    \"\"\" Generates and displays graphs using above helper functions\n",
    "    \n",
    "    Arguments:\n",
    "        title: String of the inhibition type\n",
    "        mm_func: Function to evaluate the Michaelis-Menten equation\n",
    "        lb_func: Function to evaluate the Lineweaver-Burk equation\n",
    "    \"\"\"\n",
    "    \n",
    "    fig = plot_inhibition(title, mm_func, lb_func)  # Generate Figure\n",
    "    slider_ui, ki_widget, inhib_widget = make_widgets()  # Genereature Widgets\n",
    "\n",
    "    ## Initializes widgets to update the graph\n",
    "    widgets.interactive_output(mm_vs_lb_update, {'ki': ki_widget, 'inhib' : inhib_widget,\n",
    "                                                 'mm_func': fixed(mm_func),\n",
    "                                                 'lb_func' : fixed(lb_func),\n",
    "                                                 'graph' : fixed(fig)})\n",
    "\n",
    "    # Display graph and UI\n",
    "    display(fig)\n",
    "    display(slider_ui)\n",
    "    \n",
    "\n",
    "### Additional Logistics ### \n",
    "# Edit to control concentration range #\n",
    "conc_low = -200  # Lowest concentration\n",
    "conc_high = 400  # Highest Concentration\n",
    "sub_neg = np.linspace(conc_low,-1, 100)\n",
    "sub_pos = np.linspace(1,conc_high, 100)\n",
    "substrate = np.concatenate((sub_neg, sub_pos)) # Substrate Concentration Vector\n",
    "\n",
    "### Starting Enzyme Constants and Inhibitor Concentration###\n",
    "km = 30\n",
    "vmax = 20\n",
    "ki = 50\n",
    "inhib_conc = 50"
   ]
  },
  {
   "cell_type": "markdown",
   "metadata": {},
   "source": [
    "<a id='competitive'></a>"
   ]
  },
  {
   "cell_type": "markdown",
   "metadata": {},
   "source": [
    "# Competitive Inhibition\n",
    "\n",
    "## Michaelis-Menten Equation\n",
    "$$v = \\frac{V_{max} [S]}{(1 + \\frac{[I]}{K_I})K_m + [S]}$$\n",
    "\n",
    "## Lineweaver-Burk Equation\n",
    "\n",
    "$$\\frac{1}{v} = \\frac{1}{V_{max}} + \\big(1 + \\frac{[I]}{K_I}\\big)\\frac{K_m}{V_{max}}\\frac{1}{[S]}$$"
   ]
  },
  {
   "cell_type": "code",
   "execution_count": 3,
   "metadata": {},
   "outputs": [
    {
     "data": {
      "application/vnd.jupyter.widget-view+json": {
       "model_id": "2451e06aab2f426b83f663f4d26a0711",
       "version_major": 2,
       "version_minor": 0
      },
      "text/plain": [
       "FigureWidget({\n",
       "    'data': [{'line': {'color': 'red'},\n",
       "              'mode': 'lines',\n",
       "              'showlegen…"
      ]
     },
     "metadata": {},
     "output_type": "display_data"
    },
    {
     "data": {
      "application/vnd.jupyter.widget-view+json": {
       "model_id": "ffb034c2b02142949fc49b177aef4e78",
       "version_major": 2,
       "version_minor": 0
      },
      "text/plain": [
       "HBox(children=(IntSlider(value=50, description='$K_{I}$', min=1), IntSlider(value=50, description='$[I]$', max…"
      ]
     },
     "metadata": {},
     "output_type": "display_data"
    }
   ],
   "source": [
    "def mm_competitive(ki, inhib_conc):\n",
    "    vel = (vmax * sub_pos) / ((1 + inhib_conc / ki) * km + sub_pos)\n",
    "    return(vel)\n",
    "\n",
    "def lb_competitive(ki, inhib_conc):\n",
    "    recip_vel = 1 / vmax + (1 + inhib_conc/ki) * (km/vmax) * 1 / substrate\n",
    "    return(recip_vel)\n",
    "\n",
    "plot_and_display('Competitive', mm_competitive, lb_competitive)"
   ]
  },
  {
   "cell_type": "markdown",
   "metadata": {},
   "source": [
    "<a id='uncompetitive'></a>"
   ]
  },
  {
   "cell_type": "markdown",
   "metadata": {},
   "source": [
    "## Uncompetitive Inhibition\n",
    "\n",
    "### Michaelis-Menten Equation\n",
    "\n",
    "$$v = \\frac{V_{max} [S]}{K_m + (1 + \\frac{[I]}{K_I})[S]}$$\n",
    "\n",
    "### Lineweaver-Burk Equation\n",
    "\n",
    "$$\\frac{1}{v} = \\big(1 + \\frac{[I]}{K_I}\\big)\\frac{1}{V_{max}} + \\frac{K_m}{V_{max}}\\frac{1}{[S]}$$"
   ]
  },
  {
   "cell_type": "code",
   "execution_count": 4,
   "metadata": {},
   "outputs": [
    {
     "data": {
      "application/vnd.jupyter.widget-view+json": {
       "model_id": "8329a85319964402b3c6df0a0e938378",
       "version_major": 2,
       "version_minor": 0
      },
      "text/plain": [
       "FigureWidget({\n",
       "    'data': [{'line': {'color': 'red'},\n",
       "              'mode': 'lines',\n",
       "              'showlegen…"
      ]
     },
     "metadata": {},
     "output_type": "display_data"
    },
    {
     "data": {
      "application/vnd.jupyter.widget-view+json": {
       "model_id": "f51f2c5192214c038ba9f08ffbc5756a",
       "version_major": 2,
       "version_minor": 0
      },
      "text/plain": [
       "HBox(children=(IntSlider(value=50, description='$K_{I}$', min=1), IntSlider(value=50, description='$[I]$', max…"
      ]
     },
     "metadata": {},
     "output_type": "display_data"
    }
   ],
   "source": [
    "def mm_uncompetitive(ki, inhib_conc):\n",
    "    vel = (vmax * sub_pos) / (km + (1 + inhib_conc / ki) * sub_pos)\n",
    "    return(vel)\n",
    "\n",
    "def lb_uncompetitive(ki, inhib_conc):\n",
    "    recip_vel = (1 + inhib_conc/ki) * 1 / vmax + (km/vmax) * 1 / substrate\n",
    "    return(recip_vel)\n",
    "\n",
    "plot_and_display('Uncompetitive', mm_uncompetitive, lb_uncompetitive)"
   ]
  },
  {
   "cell_type": "markdown",
   "metadata": {},
   "source": [
    "<a id='noncompetitive'></a>"
   ]
  },
  {
   "cell_type": "markdown",
   "metadata": {},
   "source": [
    "## Noncompetitive Inhibition\n",
    "\n",
    "### MM Equation\n",
    "\n",
    "$$v = \\frac{V_{max} [S]}{(1 + \\frac{[I]}{K_I})K_m + (1 + \\frac{[I]}{K_{I,2}})[S]}$$\n",
    "\n",
    "### LB Equation\n",
    "\n",
    "$$\\frac{1}{v} = (1 + \\frac{[I]}{K_{I,2}})\\frac{1}{V_{max}} + (1 + \\frac{[I]}{K_I})\\frac{K_m}{V_{max}}\\frac{1}{[S]}$$"
   ]
  },
  {
   "cell_type": "code",
   "execution_count": 5,
   "metadata": {},
   "outputs": [
    {
     "data": {
      "application/vnd.jupyter.widget-view+json": {
       "model_id": "a2839399eace4ec4bb5529761e855e6d",
       "version_major": 2,
       "version_minor": 0
      },
      "text/plain": [
       "FigureWidget({\n",
       "    'data': [{'line': {'color': 'red'},\n",
       "              'mode': 'lines',\n",
       "              'showlegen…"
      ]
     },
     "metadata": {},
     "output_type": "display_data"
    },
    {
     "data": {
      "application/vnd.jupyter.widget-view+json": {
       "model_id": "d1828adfea3d48998a8086cb1e86cdfc",
       "version_major": 2,
       "version_minor": 0
      },
      "text/plain": [
       "HBox(children=(IntSlider(value=50, description='$K_{I}$', min=1), IntSlider(value=50, description='$[I]$', max…"
      ]
     },
     "metadata": {},
     "output_type": "display_data"
    }
   ],
   "source": [
    "def mm_noncompetitive(ki, inhib_conc):\n",
    "    vel = (vmax * sub_pos) / ((1 + inhib_conc / ki) * km + (1 + inhib_conc / ki) * sub_pos)\n",
    "    return(vel)\n",
    "\n",
    "def lb_noncompetitive(ki, inhib_conc):\n",
    "    recip_vel = (1 + inhib_conc/ki) * 1 / vmax + (1 + inhib_conc / ki) * (km/vmax) * 1 / substrate\n",
    "    return(recip_vel)\n",
    "\n",
    "plot_and_display('Noncompetitive', mm_noncompetitive, lb_noncompetitive)"
   ]
  },
  {
   "cell_type": "markdown",
   "metadata": {},
   "source": [
    "<a id='key-observations'></a>"
   ]
  },
  {
   "cell_type": "markdown",
   "metadata": {},
   "source": [
    "## Key Observations\n",
    "Below are a list of key observations for each of the types of inhibition that you should notice:\n",
    "\n",
    "### Competitive Inhibition\n",
    "1. The inhibition can be overcome with a large enough $[S]$ (i.e., the Michaelis-Menten graph will eventually reach $V_{max}$\n",
    "2. Changing $[I]$ alters the slope of the Lineweaver-Burk plot\n",
    "3. Chagning $[I]$ does not alter the y-intercept ($V_{max}$)\n",
    "\n",
    "### Uncompetitive Inhibition\n",
    "1. Inhibition cannot be overcome with large $[S]$ (i.e., $V_{max}$ has decreased)\n",
    "2. Changing $[I]$ does not alter the slope of the Lineweaver-Burk plot\n",
    "3. Changing $[I]$ alters *both* the x- and y-intercept ($K_m$ and $V_{max}$, respectively)\n",
    "\n",
    "### Noncompetitive Inhibition\n",
    "1. Inhibition cannot be overcome with large $[S]$ (i.e., $V_{max}$ has decreased)\n",
    "2. Changing $[I]$ does alters the slope of the Lineweaver-Burk plot\n",
    "3. Changing $[I]$ does not alter the x-intercept ($K_m$)"
   ]
  }
 ],
 "metadata": {
  "kernelspec": {
   "display_name": "Python 3",
   "language": "python",
   "name": "python3"
  },
  "language_info": {
   "codemirror_mode": {
    "name": "ipython",
    "version": 3
   },
   "file_extension": ".py",
   "mimetype": "text/x-python",
   "name": "python",
   "nbconvert_exporter": "python",
   "pygments_lexer": "ipython3",
   "version": "3.7.3"
  }
 },
 "nbformat": 4,
 "nbformat_minor": 4
}
