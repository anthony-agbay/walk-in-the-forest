{
 "cells": [
  {
   "cell_type": "markdown",
   "metadata": {},
   "source": [
    "# Introduction to the SIR Model\n",
    "One of the canonical epidemiological models is the SIR model. Below is an interactive notebook that will allow you to explore the variables. While determining an analytical solution to the SIR model is possible, we will solve the system of differential equations using odeint([See here](https://docs.scipy.org/doc/scipy/reference/generated/scipy.integrate.odeint.html) for the documentation if you are interested)"
   ]
  },
  {
   "cell_type": "markdown",
   "metadata": {},
   "source": [
    "## Table of Contents\n",
    "1. [How to Use This Notebook](#how-to-use)\n",
    "2. [Model Code](#model-code)\n",
    "3. [Interactive Graph](#graph)"
   ]
  },
  {
   "cell_type": "markdown",
   "metadata": {},
   "source": [
    "<a id='how-to-use'></a>"
   ]
  },
  {
   "cell_type": "markdown",
   "metadata": {},
   "source": [
    "## How to Use This Notebook\n",
    "\n",
    "1. Select the \"Kernel\" menu button\n",
    "2. Select \"Restart and Run All\"\n",
    "3. Use the sliders to control the values for $\\alpha$ and $\\gamma$\n",
    "4. Observe how altering these values change the dynamics of the SIR plots"
   ]
  },
  {
   "cell_type": "markdown",
   "metadata": {},
   "source": [
    "<a id='model-code'></a>"
   ]
  },
  {
   "cell_type": "markdown",
   "metadata": {},
   "source": [
    "## Model Code"
   ]
  },
  {
   "cell_type": "code",
   "execution_count": 1,
   "metadata": {},
   "outputs": [],
   "source": [
    "## Imports\n",
    "import numpy as np\n",
    "from scipy.integrate import odeint\n",
    "import matplotlib.pyplot as plt\n",
    "import plotly.graph_objects as go\n",
    "from ipywidgets import interact, interactive\n",
    "import ipywidgets as widgets"
   ]
  },
  {
   "cell_type": "code",
   "execution_count": 2,
   "metadata": {},
   "outputs": [],
   "source": [
    "## Model and odeint function definition\n",
    "def mm_model(y, t, beta, gamma, n):\n",
    "    \"\"\" Solves system using the odeint definition and function\n",
    "    \n",
    "    Arguments\n",
    "        y: List of variable solutions\n",
    "        t: List of time steps to evaluate at\n",
    "        beta: Infection rate constant\n",
    "        gamma: Recovery rate constant\n",
    "        n: Total number in the population\n",
    "    \n",
    "    Returns:\n",
    "        ds: Change in S \n",
    "        di: Change in I\n",
    "        dr: Change in R\n",
    "        \n",
    "    \"\"\"\n",
    "    s, i, r = y\n",
    "    ds = - beta * s * i / n\n",
    "    di = beta * s * i / n - gamma * i\n",
    "    dr = gamma * i\n",
    "\n",
    "    return ds, di, dr\n",
    "\n",
    "## Starting values\n",
    "beta = 1\n",
    "gamma = 0.2\n",
    "y0 = [1000, 1, 0]\n",
    "n = np.sum(y0)\n",
    "\n",
    "## Define time array\n",
    "t = np.linspace(0, 100, 200)\n",
    "\n",
    "## Initial odeint solution\n",
    "sol = odeint(mm_model, y0, t, args=(beta, gamma, n))\n",
    "\n",
    "## Setup FigureWidget and initial trace\n",
    "fig = go.FigureWidget()\n",
    "fig.add_scatter(x=t, y=sol[:,0], name=\"Susceptible\", line_color='red')\n",
    "fig.add_scatter(x=t, y=sol[:,1], name=\"Infected\", line_color='green')\n",
    "fig.add_scatter(x=t, y=sol[:,2], name='Recovered', line_color='blue')\n",
    "fig.update_layout(title='SIR Model',\n",
    "                  template='plotly_white')\n",
    "\n",
    "## Define ipywidget update function\n",
    "def graph_update(beta, gamma):\n",
    "    \"\"\" Update graph data via ipywidgets\n",
    "    \n",
    "    Arguments:\n",
    "        beta: Infection rate constant\n",
    "        gamma: Recovery rate constant \n",
    "        \n",
    "    Prints:\n",
    "        r0: Calculated R0\n",
    "        \n",
    "    \"\"\"\n",
    "    sol = odeint(mm_model, y0, t, args=(beta, gamma, n))\n",
    "    fig.data[0].y = sol[:,0]\n",
    "    fig.data[1].y = sol[:,1]\n",
    "    fig.data[2].y = sol[:,2]\n",
    "    r0 = round(beta/gamma,3)\n",
    "    print(r0)\n",
    "    \n",
    "## Define Widgets and UI\n",
    "beta_widget = widgets.FloatSlider(value=1,  min=0.1, max=3, step=0.1, description=\"$\\\\beta$\")\n",
    "gamma_widget = widgets.FloatSlider(value=.2,  min=0.1, max=3, step=0.1, description=\"$\\gamma$\")\n",
    "out = widgets.interactive_output(graph_update, {'beta' : beta_widget, 'gamma' : gamma_widget})\n",
    "slider_ui = widgets.HBox([beta_widget, gamma_widget, widgets.Label(\"$R_0$:\"), out])"
   ]
  },
  {
   "cell_type": "markdown",
   "metadata": {},
   "source": [
    "<a id='graph'></a>"
   ]
  },
  {
   "cell_type": "markdown",
   "metadata": {},
   "source": [
    "## Interactive Graph"
   ]
  },
  {
   "cell_type": "code",
   "execution_count": 3,
   "metadata": {},
   "outputs": [
    {
     "data": {
      "application/vnd.jupyter.widget-view+json": {
       "model_id": "c65bd30f32f742e79cd0b3ae54c87f82",
       "version_major": 2,
       "version_minor": 0
      },
      "text/plain": [
       "FigureWidget({\n",
       "    'data': [{'line': {'color': 'red'},\n",
       "              'name': 'Susceptible',\n",
       "              'typ…"
      ]
     },
     "metadata": {},
     "output_type": "display_data"
    },
    {
     "data": {
      "application/vnd.jupyter.widget-view+json": {
       "model_id": "b46691b28f444abea5d106c7b99b9264",
       "version_major": 2,
       "version_minor": 0
      },
      "text/plain": [
       "HBox(children=(FloatSlider(value=1.0, description='$\\\\beta$', max=3.0, min=0.1), FloatSlider(value=0.2, descri…"
      ]
     },
     "metadata": {},
     "output_type": "display_data"
    }
   ],
   "source": [
    "display(fig)\n",
    "display(slider_ui)"
   ]
  }
 ],
 "metadata": {
  "kernelspec": {
   "display_name": "Python 3",
   "language": "python",
   "name": "python3"
  },
  "language_info": {
   "codemirror_mode": {
    "name": "ipython",
    "version": 3
   },
   "file_extension": ".py",
   "mimetype": "text/x-python",
   "name": "python",
   "nbconvert_exporter": "python",
   "pygments_lexer": "ipython3",
   "version": "3.7.3"
  }
 },
 "nbformat": 4,
 "nbformat_minor": 4
}
