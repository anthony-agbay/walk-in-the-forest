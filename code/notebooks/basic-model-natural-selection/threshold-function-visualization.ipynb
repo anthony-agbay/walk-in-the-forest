{
 "cells": [
  {
   "cell_type": "markdown",
   "id": "adult-drink",
   "metadata": {},
   "source": [
    "# Visualize Threshold Function"
   ]
  },
  {
   "cell_type": "code",
   "execution_count": null,
   "id": "metropolitan-symphony",
   "metadata": {},
   "outputs": [],
   "source": [
    "import numpy as np\n",
    "from plotly.subplots import make_subplots\n",
    "import plotly.graph_objects as go\n",
    "\n",
    "# Import local python style\n",
    "import os, sys\n",
    "module_path = os.path.abspath(os.path.join('..'))\n",
    "if module_path not in sys.path:\n",
    "    sys.path.append(module_path)\n",
    "import relative_pathing\n",
    "import plotly_styles.walkintheforest_styles"
   ]
  },
  {
   "cell_type": "markdown",
   "id": "binary-mixer",
   "metadata": {},
   "source": [
    "## Visualizing $e^{-x}$"
   ]
  },
  {
   "cell_type": "code",
   "execution_count": null,
   "id": "located-participant",
   "metadata": {},
   "outputs": [],
   "source": [
    "x1 = np.linspace(0,6,100)\n",
    "y1 = np.exp(-x1)\n",
    "\n",
    "fig1 = go.Figure(go.Scatter(x=x1, y=y1))\n",
    "fig1.update_layout(title=r\"Graph of e<sup>-x</sup>\", title_x = 0.5,\n",
    "                   template=\"walkintheforest-dark\",\n",
    "                   autosize=True,\n",
    "                   showlegend=False,\n",
    "                   width=800,\n",
    "                   height=500)\n",
    "fig1.update_xaxes(title=\"x\")\n",
    "fig1.update_yaxes(title=\"y\",range = [0,1]);"
   ]
  },
  {
   "cell_type": "code",
   "execution_count": null,
   "id": "statistical-midwest",
   "metadata": {},
   "outputs": [],
   "source": [
    "fig1.show()"
   ]
  },
  {
   "cell_type": "code",
   "execution_count": null,
   "id": "congressional-surgery",
   "metadata": {},
   "outputs": [],
   "source": [
    "fig1.write_html(\"figures/graph-e-x.html\")\n",
    "fig1.write_image(\"figures/graph-e-x.pdf\")"
   ]
  },
  {
   "cell_type": "markdown",
   "id": "operating-position",
   "metadata": {},
   "source": [
    "## Graphing Threshold and Regions"
   ]
  },
  {
   "cell_type": "code",
   "execution_count": null,
   "id": "narrow-lithuania",
   "metadata": {},
   "outputs": [],
   "source": [
    "regions_plot = make_subplots(rows=1, cols=2,\n",
    "                            subplot_titles = (\"Low Acceptance\", \"High Acceptance\"),\n",
    "                            shared_yaxes=True)\n",
    "\n",
    "# Add Basic Traces\n",
    "regions_plot.add_trace(go.Scatter(x=x1, y=y1, line_width=4), row=1, col=1)\n",
    "regions_plot.add_trace(go.Scatter(x=x1, y=y1, line_width=4), row=1, col=2)\n",
    "\n",
    "# Add Regions to Low Acceptance Plot\n",
    "regions_plot.add_hrect(y0=0, y1=0.2, row=1, col=1, line_width=0, fillcolor='green', opacity=0.2)\n",
    "regions_plot.add_hrect(y0=0.2, y1=1, row=1, col=1, line_width=0, fillcolor='red', opacity=0.2)\n",
    "\n",
    "# Add Regions to High Acceptance Plot\n",
    "regions_plot.add_hrect(y0=0, y1=0.6, row=1, col=2, line_width=0, fillcolor='green', opacity=0.2)\n",
    "regions_plot.add_hrect(y0=0.6, y1=1, row=1, col=2, line_width=0, fillcolor='red', opacity=0.2)\n",
    "\n",
    "regions_plot.update_yaxes(range=[0,1])\n",
    "regions_plot.update_layout(title=\"Comparison of Low and High Acceptance Thresholds\",\n",
    "                           title_x = 0.5,\n",
    "                           template=\"walkintheforest-dark\",\n",
    "                           showlegend=False,\n",
    "                           width=800,\n",
    "                           height=500)"
   ]
  },
  {
   "cell_type": "code",
   "execution_count": null,
   "id": "essential-booth",
   "metadata": {},
   "outputs": [],
   "source": [
    "regions_plot.write_html(\"figures/acceptance-regions-plot.html\")\n",
    "regions_plot.write_image(\"figures/acceptance-regions-plot.pdf\")"
   ]
  }
 ],
 "metadata": {
  "kernelspec": {
   "display_name": "Python 3",
   "language": "python",
   "name": "python3"
  },
  "language_info": {
   "codemirror_mode": {
    "name": "ipython",
    "version": 3
   },
   "file_extension": ".py",
   "mimetype": "text/x-python",
   "name": "python",
   "nbconvert_exporter": "python",
   "pygments_lexer": "ipython3",
   "version": "3.9.2"
  }
 },
 "nbformat": 4,
 "nbformat_minor": 5
}
